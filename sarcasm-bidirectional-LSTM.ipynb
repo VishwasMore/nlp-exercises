{
 "cells": [
  {
   "cell_type": "code",
   "execution_count": 1,
   "metadata": {},
   "outputs": [],
   "source": [
    "import numpy as np\n",
    "\n",
    "import json\n",
    "import tensorflow as tf\n",
    "\n",
    "from tensorflow.keras.preprocessing.text import Tokenizer\n",
    "from tensorflow.keras.preprocessing.sequence import pad_sequences"
   ]
  },
  {
   "cell_type": "code",
   "execution_count": 2,
   "metadata": {},
   "outputs": [],
   "source": [
    "vocab_size = 1000\n",
    "embedding_dim = 16\n",
    "max_length = 120\n",
    "trunc_type='post'\n",
    "padding_type='post'\n",
    "oov_tok = \"<OOV>\"\n",
    "training_size = 20000"
   ]
  },
  {
   "cell_type": "code",
   "execution_count": 3,
   "metadata": {},
   "outputs": [],
   "source": [
    "with open(\"sarcasm.json\", 'r') as f:\n",
    "    datastore = json.load(f)"
   ]
  },
  {
   "cell_type": "code",
   "execution_count": 6,
   "metadata": {},
   "outputs": [
    {
     "data": {
      "text/plain": [
       "[{'article_link': 'https://www.huffingtonpost.com/entry/versace-black-code_us_5861fbefe4b0de3a08f600d5',\n",
       "  'headline': \"former versace store clerk sues over secret 'black code' for minority shoppers\",\n",
       "  'is_sarcastic': 0},\n",
       " {'article_link': 'https://www.huffingtonpost.com/entry/roseanne-revival-review_us_5ab3a497e4b054d118e04365',\n",
       "  'headline': \"the 'roseanne' revival catches up to our thorny political mood, for better and worse\",\n",
       "  'is_sarcastic': 0},\n",
       " {'article_link': 'https://local.theonion.com/mom-starting-to-fear-son-s-web-series-closest-thing-she-1819576697',\n",
       "  'headline': \"mom starting to fear son's web series closest thing she will have to grandchild\",\n",
       "  'is_sarcastic': 1},\n",
       " {'article_link': 'https://politics.theonion.com/boehner-just-wants-wife-to-listen-not-come-up-with-alt-1819574302',\n",
       "  'headline': 'boehner just wants wife to listen, not come up with alternative debt-reduction ideas',\n",
       "  'is_sarcastic': 1},\n",
       " {'article_link': 'https://www.huffingtonpost.com/entry/jk-rowling-wishes-snape-happy-birthday_us_569117c4e4b0cad15e64fdcb',\n",
       "  'headline': 'j.k. rowling wishes snape happy birthday in the most magical way',\n",
       "  'is_sarcastic': 0}]"
      ]
     },
     "execution_count": 6,
     "metadata": {},
     "output_type": "execute_result"
    }
   ],
   "source": [
    "datastore[0:5]"
   ]
  },
  {
   "cell_type": "code",
   "execution_count": 11,
   "metadata": {},
   "outputs": [],
   "source": [
    "sentences = []\n",
    "labels = []\n",
    "urls = []\n",
    "\n",
    "for item in datastore:\n",
    "    sentences.append(item['headline'])\n",
    "    labels.append(item['is_sarcastic'])"
   ]
  },
  {
   "cell_type": "code",
   "execution_count": 12,
   "metadata": {},
   "outputs": [],
   "source": [
    "training_sentences = sentences[0:training_size]\n",
    "testing_sentences = sentences[training_size:]\n",
    "training_labels = labels[0:training_size]\n",
    "testing_labels = labels[training_size:]"
   ]
  },
  {
   "cell_type": "code",
   "execution_count": 13,
   "metadata": {},
   "outputs": [],
   "source": [
    "tokenizer = Tokenizer(num_words=vocab_size, oov_token=oov_tok)\n",
    "tokenizer.fit_on_texts(training_sentences)"
   ]
  },
  {
   "cell_type": "code",
   "execution_count": 14,
   "metadata": {},
   "outputs": [],
   "source": [
    "word_index = tokenizer.word_index"
   ]
  },
  {
   "cell_type": "code",
   "execution_count": 15,
   "metadata": {},
   "outputs": [],
   "source": [
    "training_sequences = tokenizer.texts_to_sequences(training_sentences)\n",
    "training_padded = pad_sequences(training_sequences, maxlen=max_length, padding=padding_type, truncating=trunc_type)"
   ]
  },
  {
   "cell_type": "code",
   "execution_count": 16,
   "metadata": {},
   "outputs": [],
   "source": [
    "testing_sequences = tokenizer.texts_to_sequences(testing_sentences)\n",
    "testing_padded = pad_sequences(testing_sequences, maxlen=max_length, padding=padding_type, truncating=trunc_type)"
   ]
  },
  {
   "cell_type": "code",
   "execution_count": 17,
   "metadata": {},
   "outputs": [
    {
     "name": "stdout",
     "output_type": "stream",
     "text": [
      "Model: \"sequential\"\n",
      "_________________________________________________________________\n",
      "Layer (type)                 Output Shape              Param #   \n",
      "=================================================================\n",
      "embedding (Embedding)        (None, 120, 16)           16000     \n",
      "_________________________________________________________________\n",
      "bidirectional (Bidirectional (None, 64)                12544     \n",
      "_________________________________________________________________\n",
      "dense (Dense)                (None, 24)                1560      \n",
      "_________________________________________________________________\n",
      "dense_1 (Dense)              (None, 1)                 25        \n",
      "=================================================================\n",
      "Total params: 30,129\n",
      "Trainable params: 30,129\n",
      "Non-trainable params: 0\n",
      "_________________________________________________________________\n"
     ]
    }
   ],
   "source": [
    "model = tf.keras.Sequential([\n",
    "    tf.keras.layers.Embedding(vocab_size, embedding_dim, input_length=max_length),\n",
    "    tf.keras.layers.Bidirectional(tf.keras.layers.LSTM(32)),\n",
    "    tf.keras.layers.Dense(24, activation='relu'),\n",
    "    tf.keras.layers.Dense(1, activation='sigmoid')\n",
    "])\n",
    "\n",
    "model.compile(loss='binary_crossentropy',optimizer='adam',metrics=['accuracy'])\n",
    "model.summary()"
   ]
  },
  {
   "cell_type": "code",
   "execution_count": 18,
   "metadata": {},
   "outputs": [
    {
     "name": "stdout",
     "output_type": "stream",
     "text": [
      "Epoch 1/50\n",
      "625/625 [==============================] - 19s 30ms/step - loss: 0.4588 - accuracy: 0.7649 - val_loss: 0.3867 - val_accuracy: 0.8231\n",
      "Epoch 2/50\n",
      "625/625 [==============================] - 20s 32ms/step - loss: 0.3512 - accuracy: 0.8389 - val_loss: 0.3744 - val_accuracy: 0.8262\n",
      "Epoch 3/50\n",
      "625/625 [==============================] - 20s 32ms/step - loss: 0.3260 - accuracy: 0.8543 - val_loss: 0.3708 - val_accuracy: 0.8317\n",
      "Epoch 4/50\n",
      "625/625 [==============================] - 20s 32ms/step - loss: 0.3134 - accuracy: 0.8584 - val_loss: 0.3704 - val_accuracy: 0.8338\n",
      "Epoch 5/50\n",
      "625/625 [==============================] - 19s 30ms/step - loss: 0.3010 - accuracy: 0.8667 - val_loss: 0.3756 - val_accuracy: 0.8313\n",
      "Epoch 6/50\n",
      "625/625 [==============================] - 19s 30ms/step - loss: 0.2924 - accuracy: 0.8698 - val_loss: 0.3699 - val_accuracy: 0.8317\n",
      "Epoch 7/50\n",
      "625/625 [==============================] - 19s 30ms/step - loss: 0.2831 - accuracy: 0.8765 - val_loss: 0.3794 - val_accuracy: 0.8319\n",
      "Epoch 8/50\n",
      "625/625 [==============================] - 20s 33ms/step - loss: 0.2754 - accuracy: 0.8826 - val_loss: 0.3922 - val_accuracy: 0.8346\n",
      "Epoch 9/50\n",
      "625/625 [==============================] - 20s 32ms/step - loss: 0.2684 - accuracy: 0.8838 - val_loss: 0.3882 - val_accuracy: 0.8289\n",
      "Epoch 10/50\n",
      "625/625 [==============================] - 20s 32ms/step - loss: 0.2621 - accuracy: 0.8863 - val_loss: 0.4055 - val_accuracy: 0.8243\n",
      "Epoch 11/50\n",
      "625/625 [==============================] - 20s 32ms/step - loss: 0.2568 - accuracy: 0.8913 - val_loss: 0.4080 - val_accuracy: 0.8281\n",
      "Epoch 12/50\n",
      "625/625 [==============================] - 22s 35ms/step - loss: 0.2499 - accuracy: 0.8931 - val_loss: 0.4169 - val_accuracy: 0.8246\n",
      "Epoch 13/50\n",
      "625/625 [==============================] - 20s 32ms/step - loss: 0.2435 - accuracy: 0.8965 - val_loss: 0.4366 - val_accuracy: 0.8237\n",
      "Epoch 14/50\n",
      "625/625 [==============================] - 19s 31ms/step - loss: 0.2379 - accuracy: 0.8997 - val_loss: 0.4443 - val_accuracy: 0.8210\n",
      "Epoch 15/50\n",
      "625/625 [==============================] - 19s 31ms/step - loss: 0.2292 - accuracy: 0.9045 - val_loss: 0.4472 - val_accuracy: 0.8196\n",
      "Epoch 16/50\n",
      "625/625 [==============================] - 19s 31ms/step - loss: 0.2219 - accuracy: 0.9071 - val_loss: 0.4710 - val_accuracy: 0.8198\n",
      "Epoch 17/50\n",
      "625/625 [==============================] - 20s 31ms/step - loss: 0.2149 - accuracy: 0.9088 - val_loss: 0.4670 - val_accuracy: 0.8189\n",
      "Epoch 18/50\n",
      "625/625 [==============================] - 20s 32ms/step - loss: 0.2072 - accuracy: 0.9137 - val_loss: 0.4924 - val_accuracy: 0.8210\n",
      "Epoch 19/50\n",
      "625/625 [==============================] - 19s 31ms/step - loss: 0.1985 - accuracy: 0.9184 - val_loss: 0.5045 - val_accuracy: 0.8185\n",
      "Epoch 20/50\n",
      "625/625 [==============================] - 20s 32ms/step - loss: 0.1937 - accuracy: 0.9194 - val_loss: 0.5033 - val_accuracy: 0.8120\n",
      "Epoch 21/50\n",
      "625/625 [==============================] - 22s 35ms/step - loss: 0.1847 - accuracy: 0.9244 - val_loss: 0.5710 - val_accuracy: 0.8111\n",
      "Epoch 22/50\n",
      "625/625 [==============================] - 21s 34ms/step - loss: 0.1796 - accuracy: 0.9269 - val_loss: 0.5671 - val_accuracy: 0.8104\n",
      "Epoch 23/50\n",
      "625/625 [==============================] - 21s 34ms/step - loss: 0.1729 - accuracy: 0.9297 - val_loss: 0.6144 - val_accuracy: 0.8110\n",
      "Epoch 24/50\n",
      "625/625 [==============================] - 21s 34ms/step - loss: 0.1661 - accuracy: 0.9324 - val_loss: 0.6413 - val_accuracy: 0.8079\n",
      "Epoch 25/50\n",
      "625/625 [==============================] - 22s 35ms/step - loss: 0.1596 - accuracy: 0.9345 - val_loss: 0.6702 - val_accuracy: 0.8089\n",
      "Epoch 26/50\n",
      "625/625 [==============================] - 21s 34ms/step - loss: 0.1516 - accuracy: 0.9389 - val_loss: 0.7217 - val_accuracy: 0.8065\n",
      "Epoch 27/50\n",
      "625/625 [==============================] - 21s 34ms/step - loss: 0.1458 - accuracy: 0.9412 - val_loss: 0.7168 - val_accuracy: 0.8077\n",
      "Epoch 28/50\n",
      "625/625 [==============================] - 22s 35ms/step - loss: 0.1437 - accuracy: 0.9409 - val_loss: 0.7280 - val_accuracy: 0.8056\n",
      "Epoch 29/50\n",
      "625/625 [==============================] - 22s 35ms/step - loss: 0.1341 - accuracy: 0.9466 - val_loss: 0.7759 - val_accuracy: 0.8041\n",
      "Epoch 30/50\n",
      "625/625 [==============================] - 21s 34ms/step - loss: 0.1340 - accuracy: 0.9448 - val_loss: 0.8495 - val_accuracy: 0.8034\n",
      "Epoch 31/50\n",
      "625/625 [==============================] - 22s 35ms/step - loss: 0.1256 - accuracy: 0.9495 - val_loss: 0.8937 - val_accuracy: 0.8056\n",
      "Epoch 32/50\n",
      "625/625 [==============================] - 22s 35ms/step - loss: 0.1230 - accuracy: 0.9498 - val_loss: 0.8602 - val_accuracy: 0.8024\n",
      "Epoch 33/50\n",
      "625/625 [==============================] - 22s 35ms/step - loss: 0.1145 - accuracy: 0.9529 - val_loss: 0.9502 - val_accuracy: 0.8043\n",
      "Epoch 34/50\n",
      "625/625 [==============================] - 22s 35ms/step - loss: 0.1120 - accuracy: 0.9539 - val_loss: 1.0011 - val_accuracy: 0.8059\n",
      "Epoch 35/50\n",
      "625/625 [==============================] - 22s 35ms/step - loss: 0.1054 - accuracy: 0.9569 - val_loss: 1.1198 - val_accuracy: 0.7940\n",
      "Epoch 36/50\n",
      "625/625 [==============================] - 21s 34ms/step - loss: 0.1023 - accuracy: 0.9582 - val_loss: 1.0280 - val_accuracy: 0.7974\n",
      "Epoch 37/50\n",
      "625/625 [==============================] - 22s 35ms/step - loss: 0.1085 - accuracy: 0.9563 - val_loss: 1.0534 - val_accuracy: 0.7967\n",
      "Epoch 38/50\n",
      "625/625 [==============================] - 22s 35ms/step - loss: 0.0985 - accuracy: 0.9596 - val_loss: 1.1237 - val_accuracy: 0.7985\n",
      "Epoch 39/50\n",
      "625/625 [==============================] - 22s 36ms/step - loss: 0.0927 - accuracy: 0.9628 - val_loss: 1.0518 - val_accuracy: 0.7991\n",
      "Epoch 40/50\n",
      "625/625 [==============================] - 22s 36ms/step - loss: 0.0910 - accuracy: 0.9615 - val_loss: 1.3075 - val_accuracy: 0.7943\n",
      "Epoch 41/50\n",
      "625/625 [==============================] - 22s 36ms/step - loss: 0.0887 - accuracy: 0.9632 - val_loss: 1.2840 - val_accuracy: 0.7943\n",
      "Epoch 42/50\n",
      "625/625 [==============================] - 23s 36ms/step - loss: 0.0888 - accuracy: 0.9638 - val_loss: 1.4068 - val_accuracy: 0.7977\n",
      "Epoch 43/50\n",
      "625/625 [==============================] - 22s 35ms/step - loss: 0.0846 - accuracy: 0.9643 - val_loss: 1.3648 - val_accuracy: 0.7958\n",
      "Epoch 44/50\n",
      "625/625 [==============================] - 23s 36ms/step - loss: 0.0825 - accuracy: 0.9651 - val_loss: 1.3492 - val_accuracy: 0.7912\n",
      "Epoch 45/50\n",
      "625/625 [==============================] - 23s 36ms/step - loss: 0.0779 - accuracy: 0.9667 - val_loss: 1.4678 - val_accuracy: 0.7904\n",
      "Epoch 46/50\n",
      "625/625 [==============================] - 23s 36ms/step - loss: 0.0760 - accuracy: 0.9679 - val_loss: 1.4717 - val_accuracy: 0.7940\n",
      "Epoch 47/50\n",
      "625/625 [==============================] - 23s 37ms/step - loss: 0.0732 - accuracy: 0.9685 - val_loss: 1.5218 - val_accuracy: 0.7927\n",
      "Epoch 48/50\n",
      "625/625 [==============================] - 24s 38ms/step - loss: 0.0724 - accuracy: 0.9696 - val_loss: 1.5171 - val_accuracy: 0.7951\n",
      "Epoch 49/50\n",
      "625/625 [==============================] - 24s 38ms/step - loss: 0.0721 - accuracy: 0.9704 - val_loss: 1.6148 - val_accuracy: 0.7939\n",
      "Epoch 50/50\n",
      "625/625 [==============================] - 23s 37ms/step - loss: 0.0699 - accuracy: 0.9702 - val_loss: 1.5299 - val_accuracy: 0.7967\n"
     ]
    }
   ],
   "source": [
    "num_epochs = 50\n",
    "\n",
    "training_padded = np.array(training_padded)\n",
    "training_labels = np.array(training_labels)\n",
    "testing_padded = np.array(testing_padded)\n",
    "testing_labels = np.array(testing_labels)\n",
    "\n",
    "history = model.fit(training_padded, training_labels, epochs=num_epochs, validation_data=(testing_padded,testing_labels),verbose=1)"
   ]
  },
  {
   "cell_type": "code",
   "execution_count": 19,
   "metadata": {},
   "outputs": [
    {
     "data": {
      "image/png": "[encoded data removed]",
      "text/plain": [
       "<Figure size 432x288 with 1 Axes>"
      ]
     },
     "metadata": {
      "needs_background": "light"
     },
     "output_type": "display_data"
    },
    {
     "data": {
      "image/png": "[encoded data removed]",
      "text/plain": [
       "<Figure size 432x288 with 1 Axes>"
      ]
     },
     "metadata": {
      "needs_background": "light"
     },
     "output_type": "display_data"
    }
   ],
   "source": [
    "import matplotlib.pyplot as plt\n",
    "\n",
    "\n",
    "def plot_graphs(history, string):\n",
    "    plt.plot(history.history[string])\n",
    "    plt.plot(history.history['val_'+string])\n",
    "    plt.xlabel(\"Epochs\")\n",
    "    plt.ylabel(string)\n",
    "    plt.legend([string, 'val_'+string])\n",
    "    plt.show()\n",
    "\n",
    "plot_graphs(history, 'accuracy')\n",
    "plot_graphs(history, 'loss')"
   ]
  },
  {
   "cell_type": "code",
   "execution_count": null,
   "metadata": {},
   "outputs": [],
   "source": []
  }
 ],
 "metadata": {
  "kernelspec": {
   "display_name": "Python 3",
   "language": "python",
   "name": "python3"
  },
  "language_info": {
   "codemirror_mode": {
    "name": "ipython",
    "version": 3
   },
   "file_extension": ".py",
   "mimetype": "text/x-python",
   "name": "python",
   "nbconvert_exporter": "python",
   "pygments_lexer": "ipython3",
   "version": "3.7.6"
  }
 },
 "nbformat": 4,
 "nbformat_minor": 4
}
