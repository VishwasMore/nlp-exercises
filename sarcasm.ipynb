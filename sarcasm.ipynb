{
 "cells": [
  {
   "cell_type": "markdown",
   "metadata": {},
   "source": [
    "# Sarcasm Sentimental Analysis"
   ]
  },
  {
   "cell_type": "code",
   "execution_count": 2,
   "metadata": {},
   "outputs": [],
   "source": [
    "import json\n",
    "import tensorflow as tf\n",
    "\n",
    "from tensorflow.keras.preprocessing.text import Tokenizer\n",
    "from tensorflow.keras.preprocessing.sequence import pad_sequences"
   ]
  },
  {
   "cell_type": "code",
   "execution_count": 52,
   "metadata": {},
   "outputs": [],
   "source": [
    "vocab_size = 1000\n",
    "embedding_dim = 64\n",
    "max_length = 20\n",
    "trunc_type='post'\n",
    "padding_type='post'\n",
    "oov_tok = \"<OOV>\"\n",
    "training_size = 20000"
   ]
  },
  {
   "cell_type": "code",
   "execution_count": 53,
   "metadata": {},
   "outputs": [],
   "source": [
    "with open(\"sarcasm.json\", 'r') as f:\n",
    "    datastore = json.load(f)\n",
    "\n",
    "sentences = []\n",
    "labels = []\n",
    "\n",
    "for item in datastore:\n",
    "    sentences.append(item['headline'])\n",
    "    labels.append(item['is_sarcastic'])"
   ]
  },
  {
   "cell_type": "code",
   "execution_count": 54,
   "metadata": {},
   "outputs": [
    {
     "data": {
      "text/plain": [
       "[{'article_link': 'https://www.huffingtonpost.com/entry/versace-black-code_us_5861fbefe4b0de3a08f600d5',\n",
       "  'headline': \"former versace store clerk sues over secret 'black code' for minority shoppers\",\n",
       "  'is_sarcastic': 0},\n",
       " {'article_link': 'https://www.huffingtonpost.com/entry/roseanne-revival-review_us_5ab3a497e4b054d118e04365',\n",
       "  'headline': \"the 'roseanne' revival catches up to our thorny political mood, for better and worse\",\n",
       "  'is_sarcastic': 0},\n",
       " {'article_link': 'https://local.theonion.com/mom-starting-to-fear-son-s-web-series-closest-thing-she-1819576697',\n",
       "  'headline': \"mom starting to fear son's web series closest thing she will have to grandchild\",\n",
       "  'is_sarcastic': 1},\n",
       " {'article_link': 'https://politics.theonion.com/boehner-just-wants-wife-to-listen-not-come-up-with-alt-1819574302',\n",
       "  'headline': 'boehner just wants wife to listen, not come up with alternative debt-reduction ideas',\n",
       "  'is_sarcastic': 1},\n",
       " {'article_link': 'https://www.huffingtonpost.com/entry/jk-rowling-wishes-snape-happy-birthday_us_569117c4e4b0cad15e64fdcb',\n",
       "  'headline': 'j.k. rowling wishes snape happy birthday in the most magical way',\n",
       "  'is_sarcastic': 0},\n",
       " {'article_link': 'https://www.huffingtonpost.com/entry/advancing-the-worlds-women_b_6810038.html',\n",
       "  'headline': \"advancing the world's women\",\n",
       "  'is_sarcastic': 0},\n",
       " {'article_link': 'https://www.huffingtonpost.com/entry/how-meat-is-grown-in-a-lab_us_561d1189e4b0c5a1ce607e86',\n",
       "  'headline': 'the fascinating case for eating lab-grown meat',\n",
       "  'is_sarcastic': 0},\n",
       " {'article_link': 'https://www.huffingtonpost.com/entry/boxed-college-tuition-ben_n_7445644.html',\n",
       "  'headline': 'this ceo will send your kids to school, if you work for his company',\n",
       "  'is_sarcastic': 0},\n",
       " {'article_link': 'https://politics.theonion.com/top-snake-handler-leaves-sinking-huckabee-campaign-1819578231',\n",
       "  'headline': 'top snake handler leaves sinking huckabee campaign',\n",
       "  'is_sarcastic': 1},\n",
       " {'article_link': 'https://www.huffingtonpost.com/entry/fridays-morning-email-inside-trumps-presser-for-the-ages_us_58a6e33ee4b07602ad53a315',\n",
       "  'headline': \"friday's morning email: inside trump's presser for the ages\",\n",
       "  'is_sarcastic': 0}]"
      ]
     },
     "execution_count": 54,
     "metadata": {},
     "output_type": "execute_result"
    }
   ],
   "source": [
    "datastore[0:10]"
   ]
  },
  {
   "cell_type": "code",
   "execution_count": 55,
   "metadata": {},
   "outputs": [],
   "source": [
    "training_sentences = sentences[0:training_size]\n",
    "testing_sentences = sentences[training_size:]\n",
    "training_labels = labels[0:training_size]\n",
    "testing_labels = labels[training_size:]"
   ]
  },
  {
   "cell_type": "code",
   "execution_count": 56,
   "metadata": {},
   "outputs": [],
   "source": [
    "tokenizer = Tokenizer(num_words=vocab_size, oov_token=oov_tok)\n",
    "tokenizer.fit_on_texts(training_sentences)\n",
    "\n",
    "word_index = tokenizer.word_index\n",
    "\n",
    "training_sequences = tokenizer.texts_to_sequences(training_sentences)\n",
    "training_padded = pad_sequences(training_sequences, maxlen=max_length, padding=padding_type, truncating=trunc_type)\n",
    "\n",
    "testing_sequences = tokenizer.texts_to_sequences(testing_sentences)\n",
    "testing_padded = pad_sequences(testing_sequences, maxlen=max_length, padding=padding_type, truncating=trunc_type)"
   ]
  },
  {
   "cell_type": "code",
   "execution_count": 57,
   "metadata": {},
   "outputs": [],
   "source": [
    "# Need this block to get it to work with TensorFlow 2.x\n",
    "import numpy as np\n",
    "training_padded = np.array(training_padded)\n",
    "training_labels = np.array(training_labels)\n",
    "testing_padded = np.array(testing_padded)\n",
    "testing_labels = np.array(testing_labels)"
   ]
  },
  {
   "cell_type": "code",
   "execution_count": 58,
   "metadata": {},
   "outputs": [],
   "source": [
    "model = tf.keras.Sequential([\n",
    "    tf.keras.layers.Embedding(vocab_size, embedding_dim, input_length=max_length),\n",
    "    tf.keras.layers.GlobalAveragePooling1D(),\n",
    "    tf.keras.layers.Dense(24, activation='relu'),\n",
    "    tf.keras.layers.Dense(1, activation='sigmoid')\n",
    "])\n",
    "model.compile(loss='binary_crossentropy',optimizer='adam',metrics=['accuracy'])"
   ]
  },
  {
   "cell_type": "code",
   "execution_count": 59,
   "metadata": {},
   "outputs": [
    {
     "name": "stdout",
     "output_type": "stream",
     "text": [
      "Model: \"sequential_2\"\n",
      "_________________________________________________________________\n",
      "Layer (type)                 Output Shape              Param #   \n",
      "=================================================================\n",
      "embedding_2 (Embedding)      (None, 20, 64)            64000     \n",
      "_________________________________________________________________\n",
      "global_average_pooling1d_2 ( (None, 64)                0         \n",
      "_________________________________________________________________\n",
      "dense_4 (Dense)              (None, 24)                1560      \n",
      "_________________________________________________________________\n",
      "dense_5 (Dense)              (None, 1)                 25        \n",
      "=================================================================\n",
      "Total params: 65,585\n",
      "Trainable params: 65,585\n",
      "Non-trainable params: 0\n",
      "_________________________________________________________________\n"
     ]
    }
   ],
   "source": [
    "model.summary()"
   ]
  },
  {
   "cell_type": "code",
   "execution_count": 60,
   "metadata": {},
   "outputs": [
    {
     "name": "stdout",
     "output_type": "stream",
     "text": [
      "Epoch 1/30\n",
      "625/625 - 1s - loss: 0.4935 - accuracy: 0.7477 - val_loss: 0.4043 - val_accuracy: 0.8125\n",
      "Epoch 2/30\n",
      "625/625 - 1s - loss: 0.3751 - accuracy: 0.8265 - val_loss: 0.4032 - val_accuracy: 0.8098\n",
      "Epoch 3/30\n",
      "625/625 - 1s - loss: 0.3624 - accuracy: 0.8350 - val_loss: 0.4196 - val_accuracy: 0.8082\n",
      "Epoch 4/30\n",
      "625/625 - 1s - loss: 0.3580 - accuracy: 0.8372 - val_loss: 0.4158 - val_accuracy: 0.8021\n",
      "Epoch 5/30\n",
      "625/625 - 1s - loss: 0.3554 - accuracy: 0.8374 - val_loss: 0.4146 - val_accuracy: 0.8122\n",
      "Epoch 6/30\n",
      "625/625 - 1s - loss: 0.3540 - accuracy: 0.8400 - val_loss: 0.4063 - val_accuracy: 0.8098\n",
      "Epoch 7/30\n",
      "625/625 - 1s - loss: 0.3514 - accuracy: 0.8388 - val_loss: 0.4045 - val_accuracy: 0.8107\n",
      "Epoch 8/30\n",
      "625/625 - 1s - loss: 0.3504 - accuracy: 0.8388 - val_loss: 0.4024 - val_accuracy: 0.8110\n",
      "Epoch 9/30\n",
      "625/625 - 1s - loss: 0.3475 - accuracy: 0.8429 - val_loss: 0.4047 - val_accuracy: 0.8156\n",
      "Epoch 10/30\n",
      "625/625 - 1s - loss: 0.3460 - accuracy: 0.8424 - val_loss: 0.4080 - val_accuracy: 0.8143\n",
      "Epoch 11/30\n",
      "625/625 - 1s - loss: 0.3426 - accuracy: 0.8436 - val_loss: 0.4015 - val_accuracy: 0.8131\n",
      "Epoch 12/30\n",
      "625/625 - 1s - loss: 0.3386 - accuracy: 0.8449 - val_loss: 0.3975 - val_accuracy: 0.8185\n",
      "Epoch 13/30\n",
      "625/625 - 1s - loss: 0.3356 - accuracy: 0.8490 - val_loss: 0.3948 - val_accuracy: 0.8207\n",
      "Epoch 14/30\n",
      "625/625 - 1s - loss: 0.3322 - accuracy: 0.8491 - val_loss: 0.3951 - val_accuracy: 0.8208\n",
      "Epoch 15/30\n",
      "625/625 - 1s - loss: 0.3276 - accuracy: 0.8536 - val_loss: 0.3943 - val_accuracy: 0.8216\n",
      "Epoch 16/30\n",
      "625/625 - 1s - loss: 0.3251 - accuracy: 0.8562 - val_loss: 0.3963 - val_accuracy: 0.8205\n",
      "Epoch 17/30\n",
      "625/625 - 1s - loss: 0.3220 - accuracy: 0.8568 - val_loss: 0.3946 - val_accuracy: 0.8223\n",
      "Epoch 18/30\n",
      "625/625 - 1s - loss: 0.3182 - accuracy: 0.8583 - val_loss: 0.3955 - val_accuracy: 0.8216\n",
      "Epoch 19/30\n",
      "625/625 - 1s - loss: 0.3151 - accuracy: 0.8594 - val_loss: 0.4004 - val_accuracy: 0.8183\n",
      "Epoch 20/30\n",
      "625/625 - 1s - loss: 0.3124 - accuracy: 0.8605 - val_loss: 0.4041 - val_accuracy: 0.8180\n",
      "Epoch 21/30\n",
      "625/625 - 1s - loss: 0.3101 - accuracy: 0.8618 - val_loss: 0.4010 - val_accuracy: 0.8198\n",
      "Epoch 22/30\n",
      "625/625 - 1s - loss: 0.3072 - accuracy: 0.8637 - val_loss: 0.4041 - val_accuracy: 0.8192\n",
      "Epoch 23/30\n",
      "625/625 - 1s - loss: 0.3051 - accuracy: 0.8658 - val_loss: 0.4058 - val_accuracy: 0.8201\n",
      "Epoch 24/30\n",
      "625/625 - 1s - loss: 0.3028 - accuracy: 0.8668 - val_loss: 0.4110 - val_accuracy: 0.8159\n",
      "Epoch 25/30\n",
      "625/625 - 1s - loss: 0.3001 - accuracy: 0.8662 - val_loss: 0.4081 - val_accuracy: 0.8183\n",
      "Epoch 26/30\n",
      "625/625 - 1s - loss: 0.2977 - accuracy: 0.8675 - val_loss: 0.4101 - val_accuracy: 0.8171\n",
      "Epoch 27/30\n",
      "625/625 - 1s - loss: 0.2947 - accuracy: 0.8682 - val_loss: 0.4133 - val_accuracy: 0.8186\n",
      "Epoch 28/30\n",
      "625/625 - 1s - loss: 0.2927 - accuracy: 0.8695 - val_loss: 0.4278 - val_accuracy: 0.8153\n",
      "Epoch 29/30\n",
      "625/625 - 1s - loss: 0.2899 - accuracy: 0.8708 - val_loss: 0.4199 - val_accuracy: 0.8174\n",
      "Epoch 30/30\n",
      "625/625 - 1s - loss: 0.2874 - accuracy: 0.8719 - val_loss: 0.4241 - val_accuracy: 0.8158\n"
     ]
    }
   ],
   "source": [
    "num_epochs = 30\n",
    "history = model.fit(training_padded, training_labels, epochs=num_epochs, validation_data=(testing_padded, testing_labels), verbose=2)"
   ]
  },
  {
   "cell_type": "code",
   "execution_count": 61,
   "metadata": {},
   "outputs": [
    {
     "data": {
      "image/png": "[encoded data removed]",
      "text/plain": [
       "<Figure size 432x288 with 1 Axes>"
      ]
     },
     "metadata": {
      "needs_background": "light"
     },
     "output_type": "display_data"
    },
    {
     "data": {
      "image/png": "[encoded data removed]",
      "text/plain": [
       "<Figure size 432x288 with 1 Axes>"
      ]
     },
     "metadata": {
      "needs_background": "light"
     },
     "output_type": "display_data"
    }
   ],
   "source": [
    "import matplotlib.pyplot as plt\n",
    "\n",
    "\n",
    "def plot_graphs(history, string):\n",
    "    plt.plot(history.history[string])\n",
    "    plt.plot(history.history['val_'+string])\n",
    "    plt.xlabel(\"Epochs\")\n",
    "    plt.ylabel(string)\n",
    "    plt.legend([string, 'val_'+string])\n",
    "    plt.show()\n",
    "  \n",
    "plot_graphs(history, \"accuracy\")\n",
    "plot_graphs(history, \"loss\")"
   ]
  },
  {
   "cell_type": "code",
   "execution_count": 62,
   "metadata": {},
   "outputs": [
    {
     "name": "stdout",
     "output_type": "stream",
     "text": [
      "former <OOV> store <OOV> <OOV> over secret <OOV> <OOV> for <OOV> <OOV> ? ? ? ? ? ? ? ?\n",
      "mom starting to fear son's web series closest thing she will have to grandchild\n",
      "1\n"
     ]
    }
   ],
   "source": [
    "reverse_word_index = dict([(value, key) for (key, value) in word_index.items()])\n",
    "\n",
    "def decode_sentence(text):\n",
    "    return ' '.join([reverse_word_index.get(i, '?') for i in text])\n",
    "\n",
    "print(decode_sentence(training_padded[0]))\n",
    "print(training_sentences[2])\n",
    "print(labels[2])"
   ]
  },
  {
   "cell_type": "code",
   "execution_count": 63,
   "metadata": {},
   "outputs": [
    {
     "name": "stdout",
     "output_type": "stream",
     "text": [
      "(1000, 64)\n"
     ]
    }
   ],
   "source": [
    "e = model.layers[0]\n",
    "weights = e.get_weights()[0]\n",
    "print(weights.shape) # shape: (vocab_size, embedding_dim)"
   ]
  },
  {
   "cell_type": "code",
   "execution_count": 64,
   "metadata": {},
   "outputs": [],
   "source": [
    "import io\n",
    "\n",
    "out_v = io.open('vecs2.tsv', 'w', encoding='utf-8')\n",
    "out_m = io.open('meta2.tsv', 'w', encoding='utf-8')\n",
    "for word_num in range(1, vocab_size):\n",
    "    word = reverse_word_index[word_num]\n",
    "    embeddings = weights[word_num]\n",
    "    out_m.write(word + \"\\n\")\n",
    "    out_v.write('\\t'.join([str(x) for x in embeddings]) + \"\\n\")\n",
    "out_v.close()\n",
    "out_m.close()"
   ]
  },
  {
   "cell_type": "code",
   "execution_count": 65,
   "metadata": {},
   "outputs": [
    {
     "name": "stdout",
     "output_type": "stream",
     "text": [
      "[[0.6750139]\n",
      " [0.5536821]]\n"
     ]
    }
   ],
   "source": [
    "sentence = [\"granny starting to fear spiders in the garden might be real\", \"game of thrones season finale showing this sunday night\"]\n",
    "sequences = tokenizer.texts_to_sequences(sentence)\n",
    "padded = pad_sequences(sequences, maxlen=max_length, padding=padding_type, truncating=trunc_type)\n",
    "print(model.predict(padded))"
   ]
  },
  {
   "cell_type": "code",
   "execution_count": 66,
   "metadata": {},
   "outputs": [
    {
     "name": "stdout",
     "output_type": "stream",
     "text": [
      "[[0.02166985]]\n"
     ]
    }
   ],
   "source": [
    "sentence = [\"I want to eat rice\"]\n",
    "sequences = tokenizer.texts_to_sequences(sentence)\n",
    "padded = pad_sequences(sequences, maxlen=max_length, padding=padding_type, truncating=trunc_type)\n",
    "print(model.predict(padded))"
   ]
  },
  {
   "cell_type": "code",
   "execution_count": 67,
   "metadata": {},
   "outputs": [
    {
     "name": "stdout",
     "output_type": "stream",
     "text": [
      "[[0.01245722]]\n"
     ]
    }
   ],
   "source": [
    "sentence = [\"Nice perfume. How long did you marinate in it?\"]\n",
    "sequences = tokenizer.texts_to_sequences(sentence)\n",
    "padded = pad_sequences(sequences, maxlen=max_length, padding=padding_type, truncating=trunc_type)\n",
    "print(model.predict(padded))"
   ]
  },
  {
   "cell_type": "code",
   "execution_count": 68,
   "metadata": {},
   "outputs": [
    {
     "name": "stdout",
     "output_type": "stream",
     "text": [
      "[[0.01499242]]\n"
     ]
    }
   ],
   "source": [
    "sentence = [\"Aside from your face, What other jokes do you have?\"]\n",
    "sequences = tokenizer.texts_to_sequences(sentence)\n",
    "padded = pad_sequences(sequences, maxlen=max_length, padding=padding_type, truncating=trunc_type)\n",
    "print(model.predict(padded))"
   ]
  },
  {
   "cell_type": "code",
   "execution_count": null,
   "metadata": {},
   "outputs": [],
   "source": []
  }
 ],
 "metadata": {
  "kernelspec": {
   "display_name": "Python 3",
   "language": "python",
   "name": "python3"
  },
  "language_info": {
   "codemirror_mode": {
    "name": "ipython",
    "version": 3
   },
   "file_extension": ".py",
   "mimetype": "text/x-python",
   "name": "python",
   "nbconvert_exporter": "python",
   "pygments_lexer": "ipython3",
   "version": "3.7.6"
  }
 },
 "nbformat": 4,
 "nbformat_minor": 4
}
